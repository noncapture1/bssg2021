{
  "nbformat": 4,
  "nbformat_minor": 0,
  "metadata": {
    "colab": {
      "name": "Hardsub2Softsub.ipynb",
      "provenance": [],
      "collapsed_sections": []
    },
    "kernelspec": {
      "name": "python3",
      "display_name": "Python 3"
    },
    "language_info": {
      "name": "python"
    }
  },
  "cells": [
    {
      "cell_type": "markdown",
      "metadata": {
        "id": "JOM0mU-qZCxq"
      },
      "source": [
        "## <img src='https://fiverr-res.cloudinary.com/images/t_main1,q_auto,f_auto,q_auto,f_auto/gigs/201283509/original/bded753530fef9a172ef7c932905e2496cd2072c/make-srt-and-ass-subtitle-file-from-any-hardsub-video.png' height=\"50\" alt=\"iceWM\" /> ___Hardsub2Softsub___"
      ]
    },
    {
      "cell_type": "code",
      "metadata": {
        "cellView": "form",
        "id": "cY7kUix6dAaX"
      },
      "source": [
        "#@title ← Install Modules\n",
        "import os, urllib.request\n",
        "from IPython.display import clear_output\n",
        "\n",
        "HOME = os.path.expanduser(\"~\")\n",
        "pathDoneCMD = f'{HOME}/doneCMD.sh'\n",
        "if not os.path.exists(f\"{HOME}/.ipython/ttmg.py\"):\n",
        "    hCode = \"https://raw.githubusercontent.com/totalleecher/\" \\\n",
        "                \"Google-Colab-CloudTorrent/master/res/ttmg.py\"\n",
        "    urllib.request.urlretrieve(hCode, f\"{HOME}/.ipython/ttmg.py\")\n",
        "\n",
        "from ttmg import (\n",
        "    loadingAn,\n",
        "    textAn,\n",
        ")\n",
        "\n",
        "loadingAn(name=\"lds\")\n",
        "textAn(\"Installing Dependencies...\", ty='twg')\n",
        "%cd /content\n",
        "os.system('git clone https://github.com/Abu3safeer/image-ocr-google-docs-srt.git')\n",
        "%cd image-ocr-google-docs-srt\n",
        "os.system('pip install --upgrade google-api-python-client google-auth-httplib2 google-auth-oauthlib')\n",
        "os.system('wget https://raw.githubusercontent.com/totalleecher/codemaster-mm/master/credentials.json')\n",
        "\n",
        "\n",
        "clear_output()\n",
        "print(\"Install Finished\")"
      ],
      "execution_count": null,
      "outputs": []
    },
    {
      "cell_type": "code",
      "metadata": {
        "id": "JGAm5iW5WZX5",
        "cellView": "form"
      },
      "source": [
        "#@title ← Upload Images from Video Sub Finder for OCR\n",
        "#@markdown Please Upload RAR file contaning Images (RGB Images)\n",
        "from google.colab import files\n",
        "uploaded = files.upload()"
      ],
      "execution_count": null,
      "outputs": []
    },
    {
      "cell_type": "code",
      "metadata": {
        "id": "e-imX6-7Zl2g",
        "cellView": "form"
      },
      "source": [
        "#@title ← Extract RAR\n",
        "import os\n",
        "from IPython.display import clear_output\n",
        "!unrar x *.rar images\n",
        "clear_output()\n",
        "print(\"Unrar Finished\")"
      ],
      "execution_count": null,
      "outputs": []
    },
    {
      "cell_type": "code",
      "metadata": {
        "id": "iE9lHz0o6Ll3",
        "cellView": "form"
      },
      "source": [
        "#@title ← RUN \n",
        "!python main.py --noauth_local_webserver\n",
        "\n",
        "#@title ← Download SRT\n",
        "from google.colab import files\n",
        "files.download('subtitle_output.srt') "
      ],
      "execution_count": null,
      "outputs": []
    },
    {
      "cell_type": "markdown",
      "metadata": {
        "id": "Ve4sfgDiCsmC"
      },
      "source": [
        "\n",
        "# <center><h3>Copyright © 2021. All right reserved.</h3></b></div><h5>Modified by <b>Codemaster@BSSG</h5></center></h5>\n",
        "\n",
        "\n"
      ]
    }
  ]
}